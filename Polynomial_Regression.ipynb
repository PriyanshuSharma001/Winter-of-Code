{
  "nbformat": 4,
  "nbformat_minor": 0,
  "metadata": {
    "colab": {
      "name": "Polynomial_Regression.ipynb",
      "provenance": []
    },
    "kernelspec": {
      "name": "python3",
      "display_name": "Python 3"
    },
    "language_info": {
      "name": "python"
    }
  },
  "cells": [
    {
      "cell_type": "markdown",
      "source": [
        "# ***POLYNOMIAL REGRESSION***"
      ],
      "metadata": {
        "id": "YlyJkjMp1AVQ"
      }
    },
    {
      "cell_type": "code",
      "execution_count": 1,
      "metadata": {
        "id": "CU9afFMBPXUC"
      },
      "outputs": [],
      "source": [
        "# Importing Libraries\n",
        "import numpy as np\n",
        "import pandas as pd\n",
        "import matplotlib.pyplot as plt"
      ]
    },
    {
      "cell_type": "markdown",
      "source": [
        "## ***Training***"
      ],
      "metadata": {
        "id": "wQPd0_4M1FJd"
      }
    },
    {
      "cell_type": "code",
      "source": [
        "# Sigmoid Function\n",
        "def SigmoidFunction(X):\n",
        "  return 1/(1+np.exp(-X))"
      ],
      "metadata": {
        "id": "f44u0JH3Ep3i"
      },
      "execution_count": 2,
      "outputs": []
    },
    {
      "cell_type": "code",
      "source": [
        "# Normalize Function\n",
        "def NormalizeTrain(X):\n",
        "  AverageList = []\n",
        "  StdDevList = []\n",
        "\n",
        "  for i in range(X.shape[1]):\n",
        "    Average = np.mean(X[:,i])\n",
        "    AverageList.append(Average)\n",
        "    StdDev  = np.std(X[:,i])\n",
        "    StdDevList.append(StdDev)\n",
        "    X[:,i] = (X[:,i] - Average)/StdDev\n",
        "  \n",
        "  return X, AverageList, StdDevList\n",
        "\n",
        "\n",
        "def NormalizeTest(X, AverageList, StdDevList):\n",
        "  for i in range(X.shape[1]):\n",
        "    X[:,i] = (X[:,i] - AverageList[i])/StdDevList[i]\n",
        "  \n",
        "  return X"
      ],
      "metadata": {
        "id": "4Fxxki6qHVaH"
      },
      "execution_count": 3,
      "outputs": []
    },
    {
      "cell_type": "code",
      "source": [
        "# Function To Add Higher Degree Features \n",
        "def ConvertToPoly(X, degree):\n",
        "  A, B, C = np.array([X[:,0]]), np.array([X[:,1]]), np.array([X[:,2]])\n",
        "  A, B, C = A.T, B.T, C.T\n",
        "\n",
        "  X_poly = np.ones((X.shape[0],1))\n",
        "\n",
        "  for i in range(degree):\n",
        "    X_poly = np.concatenate((X_poly, A**(i+1)), axis=1)\n",
        "  for i in range(degree):\n",
        "    X_poly = np.concatenate((X_poly, B**(i+1)), axis=1)\n",
        "  for i in range(degree):\n",
        "    X_poly = np.concatenate((X_poly, C**(i+1)), axis=1)\n",
        "\n",
        "  return X_poly\n"
      ],
      "metadata": {
        "id": "Xg974lsDNXht"
      },
      "execution_count": 4,
      "outputs": []
    },
    {
      "cell_type": "code",
      "source": [
        "# Cost Function\n",
        "def Cost(X, Y, theta):\n",
        "  cost = (1/(2*(X.shape[0])))*(np.sum((np.dot(X, theta) - Y)**2))\n",
        "  return cost"
      ],
      "metadata": {
        "id": "jqQzuMWlapIZ"
      },
      "execution_count": 5,
      "outputs": []
    },
    {
      "cell_type": "code",
      "source": [
        "# Polynomial Regression Function\n",
        "def Predict(X, theta):\n",
        "  return np.dot(X, theta)\n",
        "\n",
        "# Normal Equation\n",
        "def PolynomialRegressionTraining_N(X, Y):\n",
        "  return np.dot(np.dot(np.linalg.pinv(np.dot(X.T, X)), X.T), Y)\n",
        "\n",
        "# Gradient Descent\n",
        "def PolynomialRegressionTraining_G(X, Y, theta, LearningRate, Iterations):\n",
        "  m = Y.size\n",
        "  CostList  = []\n",
        "\n",
        "  for i in range(Iterations):\n",
        "    Y_Predicted = Predict(X, theta)\n",
        "    cost = Cost(X, Y, theta)\n",
        "    CostList.append(cost)\n",
        "    \n",
        "    d_theta = (np.dot(X.T, Y_Predicted - Y) / m)\n",
        "    theta = theta - LearningRate*d_theta\n",
        "\n",
        "  return theta, CostList"
      ],
      "metadata": {
        "id": "0DtqbYqvXpjZ"
      },
      "execution_count": 6,
      "outputs": []
    },
    {
      "cell_type": "code",
      "source": [
        "# Impoting Data\n",
        "TrainingData = pd.read_csv('drive/MyDrive/Colab Notebooks/Polynomial_train.csv')\n",
        "TrainingData.pop('Unnamed: 0')\n",
        "TrainingData"
      ],
      "metadata": {
        "colab": {
          "base_uri": "https://localhost:8080/",
          "height": 423
        },
        "id": "iqE4BtwxWiXL",
        "outputId": "61b6afa2-b330-4089-d666-e9d2c97b883e"
      },
      "execution_count": 7,
      "outputs": [
        {
          "output_type": "execute_result",
          "data": {
            "text/plain": [
              "              X         Y         Z        label\n",
              "0      0.643715 -9.866550 -5.836019   307.972927\n",
              "1     -1.366446 -3.761945 -8.756162   136.398375\n",
              "2     -4.090270 -1.836218 -1.846066  -310.724813\n",
              "3     -8.730478 -1.923651  3.892972     1.755447\n",
              "4      5.367169  0.358357  6.703989  -343.582590\n",
              "...         ...       ...       ...          ...\n",
              "49995  2.693877 -1.362685 -7.392968   683.405727\n",
              "49996 -9.270188 -5.456920 -2.343480 -1874.385403\n",
              "49997  6.616753 -2.847288 -0.504040   663.873655\n",
              "49998  3.558199  4.507526 -4.823674  -421.004005\n",
              "49999  0.623431  8.863234 -3.231040  -699.718682\n",
              "\n",
              "[50000 rows x 4 columns]"
            ],
            "text/html": [
              "\n",
              "  <div id=\"df-daa17454-302f-4e65-96ca-ce48e13d7609\">\n",
              "    <div class=\"colab-df-container\">\n",
              "      <div>\n",
              "<style scoped>\n",
              "    .dataframe tbody tr th:only-of-type {\n",
              "        vertical-align: middle;\n",
              "    }\n",
              "\n",
              "    .dataframe tbody tr th {\n",
              "        vertical-align: top;\n",
              "    }\n",
              "\n",
              "    .dataframe thead th {\n",
              "        text-align: right;\n",
              "    }\n",
              "</style>\n",
              "<table border=\"1\" class=\"dataframe\">\n",
              "  <thead>\n",
              "    <tr style=\"text-align: right;\">\n",
              "      <th></th>\n",
              "      <th>X</th>\n",
              "      <th>Y</th>\n",
              "      <th>Z</th>\n",
              "      <th>label</th>\n",
              "    </tr>\n",
              "  </thead>\n",
              "  <tbody>\n",
              "    <tr>\n",
              "      <th>0</th>\n",
              "      <td>0.643715</td>\n",
              "      <td>-9.866550</td>\n",
              "      <td>-5.836019</td>\n",
              "      <td>307.972927</td>\n",
              "    </tr>\n",
              "    <tr>\n",
              "      <th>1</th>\n",
              "      <td>-1.366446</td>\n",
              "      <td>-3.761945</td>\n",
              "      <td>-8.756162</td>\n",
              "      <td>136.398375</td>\n",
              "    </tr>\n",
              "    <tr>\n",
              "      <th>2</th>\n",
              "      <td>-4.090270</td>\n",
              "      <td>-1.836218</td>\n",
              "      <td>-1.846066</td>\n",
              "      <td>-310.724813</td>\n",
              "    </tr>\n",
              "    <tr>\n",
              "      <th>3</th>\n",
              "      <td>-8.730478</td>\n",
              "      <td>-1.923651</td>\n",
              "      <td>3.892972</td>\n",
              "      <td>1.755447</td>\n",
              "    </tr>\n",
              "    <tr>\n",
              "      <th>4</th>\n",
              "      <td>5.367169</td>\n",
              "      <td>0.358357</td>\n",
              "      <td>6.703989</td>\n",
              "      <td>-343.582590</td>\n",
              "    </tr>\n",
              "    <tr>\n",
              "      <th>...</th>\n",
              "      <td>...</td>\n",
              "      <td>...</td>\n",
              "      <td>...</td>\n",
              "      <td>...</td>\n",
              "    </tr>\n",
              "    <tr>\n",
              "      <th>49995</th>\n",
              "      <td>2.693877</td>\n",
              "      <td>-1.362685</td>\n",
              "      <td>-7.392968</td>\n",
              "      <td>683.405727</td>\n",
              "    </tr>\n",
              "    <tr>\n",
              "      <th>49996</th>\n",
              "      <td>-9.270188</td>\n",
              "      <td>-5.456920</td>\n",
              "      <td>-2.343480</td>\n",
              "      <td>-1874.385403</td>\n",
              "    </tr>\n",
              "    <tr>\n",
              "      <th>49997</th>\n",
              "      <td>6.616753</td>\n",
              "      <td>-2.847288</td>\n",
              "      <td>-0.504040</td>\n",
              "      <td>663.873655</td>\n",
              "    </tr>\n",
              "    <tr>\n",
              "      <th>49998</th>\n",
              "      <td>3.558199</td>\n",
              "      <td>4.507526</td>\n",
              "      <td>-4.823674</td>\n",
              "      <td>-421.004005</td>\n",
              "    </tr>\n",
              "    <tr>\n",
              "      <th>49999</th>\n",
              "      <td>0.623431</td>\n",
              "      <td>8.863234</td>\n",
              "      <td>-3.231040</td>\n",
              "      <td>-699.718682</td>\n",
              "    </tr>\n",
              "  </tbody>\n",
              "</table>\n",
              "<p>50000 rows × 4 columns</p>\n",
              "</div>\n",
              "      <button class=\"colab-df-convert\" onclick=\"convertToInteractive('df-daa17454-302f-4e65-96ca-ce48e13d7609')\"\n",
              "              title=\"Convert this dataframe to an interactive table.\"\n",
              "              style=\"display:none;\">\n",
              "        \n",
              "  <svg xmlns=\"http://www.w3.org/2000/svg\" height=\"24px\"viewBox=\"0 0 24 24\"\n",
              "       width=\"24px\">\n",
              "    <path d=\"M0 0h24v24H0V0z\" fill=\"none\"/>\n",
              "    <path d=\"M18.56 5.44l.94 2.06.94-2.06 2.06-.94-2.06-.94-.94-2.06-.94 2.06-2.06.94zm-11 1L8.5 8.5l.94-2.06 2.06-.94-2.06-.94L8.5 2.5l-.94 2.06-2.06.94zm10 10l.94 2.06.94-2.06 2.06-.94-2.06-.94-.94-2.06-.94 2.06-2.06.94z\"/><path d=\"M17.41 7.96l-1.37-1.37c-.4-.4-.92-.59-1.43-.59-.52 0-1.04.2-1.43.59L10.3 9.45l-7.72 7.72c-.78.78-.78 2.05 0 2.83L4 21.41c.39.39.9.59 1.41.59.51 0 1.02-.2 1.41-.59l7.78-7.78 2.81-2.81c.8-.78.8-2.07 0-2.86zM5.41 20L4 18.59l7.72-7.72 1.47 1.35L5.41 20z\"/>\n",
              "  </svg>\n",
              "      </button>\n",
              "      \n",
              "  <style>\n",
              "    .colab-df-container {\n",
              "      display:flex;\n",
              "      flex-wrap:wrap;\n",
              "      gap: 12px;\n",
              "    }\n",
              "\n",
              "    .colab-df-convert {\n",
              "      background-color: #E8F0FE;\n",
              "      border: none;\n",
              "      border-radius: 50%;\n",
              "      cursor: pointer;\n",
              "      display: none;\n",
              "      fill: #1967D2;\n",
              "      height: 32px;\n",
              "      padding: 0 0 0 0;\n",
              "      width: 32px;\n",
              "    }\n",
              "\n",
              "    .colab-df-convert:hover {\n",
              "      background-color: #E2EBFA;\n",
              "      box-shadow: 0px 1px 2px rgba(60, 64, 67, 0.3), 0px 1px 3px 1px rgba(60, 64, 67, 0.15);\n",
              "      fill: #174EA6;\n",
              "    }\n",
              "\n",
              "    [theme=dark] .colab-df-convert {\n",
              "      background-color: #3B4455;\n",
              "      fill: #D2E3FC;\n",
              "    }\n",
              "\n",
              "    [theme=dark] .colab-df-convert:hover {\n",
              "      background-color: #434B5C;\n",
              "      box-shadow: 0px 1px 3px 1px rgba(0, 0, 0, 0.15);\n",
              "      filter: drop-shadow(0px 1px 2px rgba(0, 0, 0, 0.3));\n",
              "      fill: #FFFFFF;\n",
              "    }\n",
              "  </style>\n",
              "\n",
              "      <script>\n",
              "        const buttonEl =\n",
              "          document.querySelector('#df-daa17454-302f-4e65-96ca-ce48e13d7609 button.colab-df-convert');\n",
              "        buttonEl.style.display =\n",
              "          google.colab.kernel.accessAllowed ? 'block' : 'none';\n",
              "\n",
              "        async function convertToInteractive(key) {\n",
              "          const element = document.querySelector('#df-daa17454-302f-4e65-96ca-ce48e13d7609');\n",
              "          const dataTable =\n",
              "            await google.colab.kernel.invokeFunction('convertToInteractive',\n",
              "                                                     [key], {});\n",
              "          if (!dataTable) return;\n",
              "\n",
              "          const docLinkHtml = 'Like what you see? Visit the ' +\n",
              "            '<a target=\"_blank\" href=https://colab.research.google.com/notebooks/data_table.ipynb>data table notebook</a>'\n",
              "            + ' to learn more about interactive tables.';\n",
              "          element.innerHTML = '';\n",
              "          dataTable['output_type'] = 'display_data';\n",
              "          await google.colab.output.renderOutput(dataTable, element);\n",
              "          const docLink = document.createElement('div');\n",
              "          docLink.innerHTML = docLinkHtml;\n",
              "          element.appendChild(docLink);\n",
              "        }\n",
              "      </script>\n",
              "    </div>\n",
              "  </div>\n",
              "  "
            ]
          },
          "metadata": {},
          "execution_count": 7
        }
      ]
    },
    {
      "cell_type": "code",
      "source": [
        "# Initializing X and Y\n",
        "X = np.array(TrainingData.drop('label', axis=1))\n",
        "Y = np.array([TrainingData['label']]).T\n",
        "\n",
        "print('X Shape : ', X.shape)\n",
        "print(X)\n",
        "print('\\nY Shape : ', Y.shape)\n",
        "print(Y)"
      ],
      "metadata": {
        "colab": {
          "base_uri": "https://localhost:8080/"
        },
        "id": "cd-DOYyZWsAK",
        "outputId": "a928d3e6-d42f-4f5b-a69b-e24b3df65b2b"
      },
      "execution_count": 8,
      "outputs": [
        {
          "output_type": "stream",
          "name": "stdout",
          "text": [
            "X Shape :  (50000, 3)\n",
            "[[ 0.64371517 -9.86655011 -5.8360194 ]\n",
            " [-1.36644585 -3.76194541 -8.75616193]\n",
            " [-4.09026967 -1.83621751 -1.84606561]\n",
            " ...\n",
            " [ 6.6167532  -2.84728822 -0.50404002]\n",
            " [ 3.55819907  4.50752592 -4.8236737 ]\n",
            " [ 0.62343079  8.86323404 -3.2310397 ]]\n",
            "\n",
            "Y Shape :  (50000, 1)\n",
            "[[ 307.9729269 ]\n",
            " [ 136.39837542]\n",
            " [-310.72481348]\n",
            " ...\n",
            " [ 663.87365546]\n",
            " [-421.00400451]\n",
            " [-699.71868166]]\n"
          ]
        }
      ]
    },
    {
      "cell_type": "code",
      "source": [
        "# Conc=verting X to Desired Format\n",
        "X_poly = ConvertToPoly(X, 3)\n",
        "X_poly[:,1:], AverageList, StdDevList = NormalizeTrain(X_poly[:,1:])\n",
        "\n",
        "print('X_poly Shape : ', X_poly.shape)\n",
        "print(X_poly)"
      ],
      "metadata": {
        "colab": {
          "base_uri": "https://localhost:8080/"
        },
        "id": "JqXvEuuOYB9a",
        "outputId": "0a932413-d577-47a1-af8b-34c3de315ad7"
      },
      "execution_count": 9,
      "outputs": [
        {
          "output_type": "stream",
          "name": "stdout",
          "text": [
            "X_poly Shape :  (50000, 10)\n",
            "[[ 1.          0.10575436 -1.0854563  ... -1.01046228  0.01896586\n",
            "  -0.52628642]\n",
            " [ 1.         -0.24273623 -1.03746442 ... -1.51503783  1.4471758\n",
            "  -1.77235638]\n",
            " [ 1.         -0.71495063 -0.54647658 ... -0.32103254 -1.00837547\n",
            "  -0.01875886]\n",
            " ...\n",
            " [ 1.          1.14126721  0.34712847 ... -0.08914204 -1.11408545\n",
            "  -0.00250756]\n",
            " [ 1.          0.61102245 -0.68090905 ... -0.83553764 -0.34272816\n",
            "  -0.29811519]\n",
            " [ 1.          0.10223777 -1.08630538 ... -0.56034416 -0.77269391\n",
            "  -0.09111142]]\n"
          ]
        }
      ]
    },
    {
      "cell_type": "code",
      "source": [
        "# Calculating Theta Using Normal Equation\n",
        "thetaN = PolynomialRegressionTraining_N(X_poly, Y)\n",
        "\n",
        "print('thetaN Shape : ', thetaN.shape)\n",
        "print(thetaN)\n",
        "\n",
        "cost = Cost(X_poly, Y, thetaN)\n",
        "print('Minimized Cost : ', cost)"
      ],
      "metadata": {
        "colab": {
          "base_uri": "https://localhost:8080/"
        },
        "id": "SkiWc_spap40",
        "outputId": "414a05d3-138c-4b43-d320-f6e2d608409f"
      },
      "execution_count": 10,
      "outputs": [
        {
          "output_type": "stream",
          "name": "stdout",
          "text": [
            "thetaN Shape :  (10, 1)\n",
            "[[  13.25752212]\n",
            " [  15.0124059 ]\n",
            " [  39.20814786]\n",
            " [  -7.49376563]\n",
            " [  -5.09867566]\n",
            " [-143.41321066]\n",
            " [   3.47890492]\n",
            " [ -18.51255628]\n",
            " [ 123.04041764]\n",
            " [  22.77383522]]\n",
            "Minimized Cost :  708253.5672270329\n"
          ]
        }
      ]
    },
    {
      "cell_type": "code",
      "source": [
        "# Randomly Initializing theta\n",
        "thetaG = np.zeros((X_poly.shape[1], 1))\n",
        "print('thetaG Shape : ', thetaG.shape)\n",
        "print(thetaG)"
      ],
      "metadata": {
        "colab": {
          "base_uri": "https://localhost:8080/"
        },
        "id": "ez1oAlv53eSZ",
        "outputId": "2a818c3f-0bab-4ba8-8656-f9800ad294ed"
      },
      "execution_count": 11,
      "outputs": [
        {
          "output_type": "stream",
          "name": "stdout",
          "text": [
            "thetaG Shape :  (10, 1)\n",
            "[[0.]\n",
            " [0.]\n",
            " [0.]\n",
            " [0.]\n",
            " [0.]\n",
            " [0.]\n",
            " [0.]\n",
            " [0.]\n",
            " [0.]\n",
            " [0.]]\n"
          ]
        }
      ]
    },
    {
      "cell_type": "code",
      "source": [
        "# Calculating Theta Using Gradient Descent\n",
        "Iterations = 2000\n",
        "LearningRate = 1\n",
        "thetaG, CostListG = PolynomialRegressionTraining_G(X_poly, Y, thetaG, LearningRate, Iterations)\n",
        "\n",
        "print('thetaG shape : ', thetaG.shape)\n",
        "print(thetaG)"
      ],
      "metadata": {
        "colab": {
          "base_uri": "https://localhost:8080/"
        },
        "id": "Qvzl8Ut9jiGB",
        "outputId": "e0cc272e-a56c-4f78-9863-472bf5e88811"
      },
      "execution_count": 12,
      "outputs": [
        {
          "output_type": "stream",
          "name": "stdout",
          "text": [
            "thetaG shape :  (10, 1)\n",
            "[[  13.25752212]\n",
            " [  15.0124059 ]\n",
            " [  39.20814786]\n",
            " [  -7.49376563]\n",
            " [  -5.09867566]\n",
            " [-143.41321066]\n",
            " [   3.47890492]\n",
            " [ -18.51255628]\n",
            " [ 123.04041764]\n",
            " [  22.77383522]]\n"
          ]
        }
      ]
    },
    {
      "cell_type": "code",
      "source": [
        "# Minimized Cost and Graph\n",
        "rng = np.arange(0, Iterations)\n",
        "plt.plot(rng, CostListG)\n",
        "plt.xlabel('Iterations')\n",
        "plt.ylabel('Cost')\n",
        "plt.show()\n",
        "\n",
        "print('\\nInitial Cost   : ', CostListG[0])\n",
        "cost = Cost(X_poly, Y, thetaG)\n",
        "print('Minimized Cost : ', cost)"
      ],
      "metadata": {
        "colab": {
          "base_uri": "https://localhost:8080/",
          "height": 334
        },
        "id": "KxA8IiF-340o",
        "outputId": "12144a46-6e03-41e9-f513-ee06cc71a89e"
      },
      "execution_count": 13,
      "outputs": [
        {
          "output_type": "display_data",
          "data": {
            "text/plain": [
              "<Figure size 432x288 with 1 Axes>"
            ],
            "image/png": "[encoded data removed]"
          },
          "metadata": {
            "needs_background": "light"
          }
        },
        {
          "output_type": "stream",
          "name": "stdout",
          "text": [
            "\n",
            "Initial Cost   :  727060.5592130942\n",
            "Minimized Cost :  708253.5672270329\n"
          ]
        }
      ]
    },
    {
      "cell_type": "code",
      "source": [
        "# Predicting Training Labels\n",
        "Y_Predicted_N = np.dot(X_poly, thetaN)\n",
        "Y_Predicted_G = np.dot(X_poly, thetaG)\n",
        "Compare = np.concatenate((Y, Y_Predicted_N, Y_Predicted_G), axis=1)\n",
        "\n",
        "print('[[  EXPECTED   :   PREDICTED(N)   :  PREDICTED(G) ]]')\n",
        "print(Compare)"
      ],
      "metadata": {
        "colab": {
          "base_uri": "https://localhost:8080/"
        },
        "id": "PSYoft3_8x-j",
        "outputId": "3b090359-855b-43dc-e920-78df4e87bac3"
      },
      "execution_count": 14,
      "outputs": [
        {
          "output_type": "stream",
          "name": "stdout",
          "text": [
            "[[  EXPECTED   :   PREDICTED(N)   :  PREDICTED(G) ]]\n",
            "[[ 307.9729269  -324.49505905 -324.49505905]\n",
            " [ 136.39837542  230.495595    230.495595  ]\n",
            " [-310.72481348    9.90050146    9.90050146]\n",
            " ...\n",
            " [ 663.87365546   27.67588622   27.67588622]\n",
            " [-421.00400451   21.72611686   21.72611686]\n",
            " [-699.71868166 -331.69231924 -331.69231924]]\n"
          ]
        }
      ]
    },
    {
      "cell_type": "markdown",
      "source": [
        "## ***Testing***"
      ],
      "metadata": {
        "id": "4I2Accol6BRR"
      }
    },
    {
      "cell_type": "code",
      "source": [
        "# Importing Testing Data\n",
        "TestingData = pd.read_csv('drive/MyDrive/Colab Notebooks/Polynomial_test.csv')\n",
        "TestingData.pop('Unnamed: 0')\n",
        "TestingData"
      ],
      "metadata": {
        "colab": {
          "base_uri": "https://localhost:8080/",
          "height": 423
        },
        "id": "AcuhUns2a9C5",
        "outputId": "7aee0bfa-5ef3-485d-c308-b78dfc6eae38"
      },
      "execution_count": 15,
      "outputs": [
        {
          "output_type": "execute_result",
          "data": {
            "text/plain": [
              "             X         Y         Z        label\n",
              "0     9.322078  0.413096  5.984731  -657.669309\n",
              "1     2.811964  6.142752  6.419237  -545.362524\n",
              "2    -2.669784  7.775091 -6.931907   -75.044187\n",
              "3    -6.992156 -9.205548  0.852580 -2403.124902\n",
              "4     1.574294 -2.213266  6.029188     8.595325\n",
              "...        ...       ...       ...          ...\n",
              "9995 -0.992449 -7.853677  7.748156  -635.006038\n",
              "9996  8.574451  6.271919 -5.734962 -1275.855209\n",
              "9997  6.640997  6.864877  4.511685 -1771.640694\n",
              "9998 -6.262414  1.323203 -3.917748   -22.746921\n",
              "9999  8.289792 -0.371541  2.099039   -64.853446\n",
              "\n",
              "[10000 rows x 4 columns]"
            ],
            "text/html": [
              "\n",
              "  <div id=\"df-039f41a5-28ba-48c3-b0e7-5c69d8ac869d\">\n",
              "    <div class=\"colab-df-container\">\n",
              "      <div>\n",
              "<style scoped>\n",
              "    .dataframe tbody tr th:only-of-type {\n",
              "        vertical-align: middle;\n",
              "    }\n",
              "\n",
              "    .dataframe tbody tr th {\n",
              "        vertical-align: top;\n",
              "    }\n",
              "\n",
              "    .dataframe thead th {\n",
              "        text-align: right;\n",
              "    }\n",
              "</style>\n",
              "<table border=\"1\" class=\"dataframe\">\n",
              "  <thead>\n",
              "    <tr style=\"text-align: right;\">\n",
              "      <th></th>\n",
              "      <th>X</th>\n",
              "      <th>Y</th>\n",
              "      <th>Z</th>\n",
              "      <th>label</th>\n",
              "    </tr>\n",
              "  </thead>\n",
              "  <tbody>\n",
              "    <tr>\n",
              "      <th>0</th>\n",
              "      <td>9.322078</td>\n",
              "      <td>0.413096</td>\n",
              "      <td>5.984731</td>\n",
              "      <td>-657.669309</td>\n",
              "    </tr>\n",
              "    <tr>\n",
              "      <th>1</th>\n",
              "      <td>2.811964</td>\n",
              "      <td>6.142752</td>\n",
              "      <td>6.419237</td>\n",
              "      <td>-545.362524</td>\n",
              "    </tr>\n",
              "    <tr>\n",
              "      <th>2</th>\n",
              "      <td>-2.669784</td>\n",
              "      <td>7.775091</td>\n",
              "      <td>-6.931907</td>\n",
              "      <td>-75.044187</td>\n",
              "    </tr>\n",
              "    <tr>\n",
              "      <th>3</th>\n",
              "      <td>-6.992156</td>\n",
              "      <td>-9.205548</td>\n",
              "      <td>0.852580</td>\n",
              "      <td>-2403.124902</td>\n",
              "    </tr>\n",
              "    <tr>\n",
              "      <th>4</th>\n",
              "      <td>1.574294</td>\n",
              "      <td>-2.213266</td>\n",
              "      <td>6.029188</td>\n",
              "      <td>8.595325</td>\n",
              "    </tr>\n",
              "    <tr>\n",
              "      <th>...</th>\n",
              "      <td>...</td>\n",
              "      <td>...</td>\n",
              "      <td>...</td>\n",
              "      <td>...</td>\n",
              "    </tr>\n",
              "    <tr>\n",
              "      <th>9995</th>\n",
              "      <td>-0.992449</td>\n",
              "      <td>-7.853677</td>\n",
              "      <td>7.748156</td>\n",
              "      <td>-635.006038</td>\n",
              "    </tr>\n",
              "    <tr>\n",
              "      <th>9996</th>\n",
              "      <td>8.574451</td>\n",
              "      <td>6.271919</td>\n",
              "      <td>-5.734962</td>\n",
              "      <td>-1275.855209</td>\n",
              "    </tr>\n",
              "    <tr>\n",
              "      <th>9997</th>\n",
              "      <td>6.640997</td>\n",
              "      <td>6.864877</td>\n",
              "      <td>4.511685</td>\n",
              "      <td>-1771.640694</td>\n",
              "    </tr>\n",
              "    <tr>\n",
              "      <th>9998</th>\n",
              "      <td>-6.262414</td>\n",
              "      <td>1.323203</td>\n",
              "      <td>-3.917748</td>\n",
              "      <td>-22.746921</td>\n",
              "    </tr>\n",
              "    <tr>\n",
              "      <th>9999</th>\n",
              "      <td>8.289792</td>\n",
              "      <td>-0.371541</td>\n",
              "      <td>2.099039</td>\n",
              "      <td>-64.853446</td>\n",
              "    </tr>\n",
              "  </tbody>\n",
              "</table>\n",
              "<p>10000 rows × 4 columns</p>\n",
              "</div>\n",
              "      <button class=\"colab-df-convert\" onclick=\"convertToInteractive('df-039f41a5-28ba-48c3-b0e7-5c69d8ac869d')\"\n",
              "              title=\"Convert this dataframe to an interactive table.\"\n",
              "              style=\"display:none;\">\n",
              "        \n",
              "  <svg xmlns=\"http://www.w3.org/2000/svg\" height=\"24px\"viewBox=\"0 0 24 24\"\n",
              "       width=\"24px\">\n",
              "    <path d=\"M0 0h24v24H0V0z\" fill=\"none\"/>\n",
              "    <path d=\"M18.56 5.44l.94 2.06.94-2.06 2.06-.94-2.06-.94-.94-2.06-.94 2.06-2.06.94zm-11 1L8.5 8.5l.94-2.06 2.06-.94-2.06-.94L8.5 2.5l-.94 2.06-2.06.94zm10 10l.94 2.06.94-2.06 2.06-.94-2.06-.94-.94-2.06-.94 2.06-2.06.94z\"/><path d=\"M17.41 7.96l-1.37-1.37c-.4-.4-.92-.59-1.43-.59-.52 0-1.04.2-1.43.59L10.3 9.45l-7.72 7.72c-.78.78-.78 2.05 0 2.83L4 21.41c.39.39.9.59 1.41.59.51 0 1.02-.2 1.41-.59l7.78-7.78 2.81-2.81c.8-.78.8-2.07 0-2.86zM5.41 20L4 18.59l7.72-7.72 1.47 1.35L5.41 20z\"/>\n",
              "  </svg>\n",
              "      </button>\n",
              "      \n",
              "  <style>\n",
              "    .colab-df-container {\n",
              "      display:flex;\n",
              "      flex-wrap:wrap;\n",
              "      gap: 12px;\n",
              "    }\n",
              "\n",
              "    .colab-df-convert {\n",
              "      background-color: #E8F0FE;\n",
              "      border: none;\n",
              "      border-radius: 50%;\n",
              "      cursor: pointer;\n",
              "      display: none;\n",
              "      fill: #1967D2;\n",
              "      height: 32px;\n",
              "      padding: 0 0 0 0;\n",
              "      width: 32px;\n",
              "    }\n",
              "\n",
              "    .colab-df-convert:hover {\n",
              "      background-color: #E2EBFA;\n",
              "      box-shadow: 0px 1px 2px rgba(60, 64, 67, 0.3), 0px 1px 3px 1px rgba(60, 64, 67, 0.15);\n",
              "      fill: #174EA6;\n",
              "    }\n",
              "\n",
              "    [theme=dark] .colab-df-convert {\n",
              "      background-color: #3B4455;\n",
              "      fill: #D2E3FC;\n",
              "    }\n",
              "\n",
              "    [theme=dark] .colab-df-convert:hover {\n",
              "      background-color: #434B5C;\n",
              "      box-shadow: 0px 1px 3px 1px rgba(0, 0, 0, 0.15);\n",
              "      filter: drop-shadow(0px 1px 2px rgba(0, 0, 0, 0.3));\n",
              "      fill: #FFFFFF;\n",
              "    }\n",
              "  </style>\n",
              "\n",
              "      <script>\n",
              "        const buttonEl =\n",
              "          document.querySelector('#df-039f41a5-28ba-48c3-b0e7-5c69d8ac869d button.colab-df-convert');\n",
              "        buttonEl.style.display =\n",
              "          google.colab.kernel.accessAllowed ? 'block' : 'none';\n",
              "\n",
              "        async function convertToInteractive(key) {\n",
              "          const element = document.querySelector('#df-039f41a5-28ba-48c3-b0e7-5c69d8ac869d');\n",
              "          const dataTable =\n",
              "            await google.colab.kernel.invokeFunction('convertToInteractive',\n",
              "                                                     [key], {});\n",
              "          if (!dataTable) return;\n",
              "\n",
              "          const docLinkHtml = 'Like what you see? Visit the ' +\n",
              "            '<a target=\"_blank\" href=https://colab.research.google.com/notebooks/data_table.ipynb>data table notebook</a>'\n",
              "            + ' to learn more about interactive tables.';\n",
              "          element.innerHTML = '';\n",
              "          dataTable['output_type'] = 'display_data';\n",
              "          await google.colab.output.renderOutput(dataTable, element);\n",
              "          const docLink = document.createElement('div');\n",
              "          docLink.innerHTML = docLinkHtml;\n",
              "          element.appendChild(docLink);\n",
              "        }\n",
              "      </script>\n",
              "    </div>\n",
              "  </div>\n",
              "  "
            ]
          },
          "metadata": {},
          "execution_count": 15
        }
      ]
    },
    {
      "cell_type": "code",
      "source": [
        "# Initializing X_test and Y_test\n",
        "X_test = np.array(TestingData.drop('label', axis=1))\n",
        "Y_test = np.array([TestingData['label']]).T\n",
        "print('X_test Shape : ', X_test.shape)\n",
        "print(X_test)\n",
        "print('\\nY_test Shape : ', Y_test.shape)\n",
        "print(Y_test)"
      ],
      "metadata": {
        "colab": {
          "base_uri": "https://localhost:8080/"
        },
        "id": "iEFczZbbhGbw",
        "outputId": "402e52cf-2af0-4a00-fe02-bfbcd03ebe3f"
      },
      "execution_count": 16,
      "outputs": [
        {
          "output_type": "stream",
          "name": "stdout",
          "text": [
            "X_test Shape :  (10000, 3)\n",
            "[[ 9.32207776  0.41309646  5.98473071]\n",
            " [ 2.81196379  6.14275187  6.41923694]\n",
            " [-2.66978441  7.77509088 -6.93190696]\n",
            " ...\n",
            " [ 6.64099656  6.86487708  4.51168542]\n",
            " [-6.26241442  1.3232032  -3.91774828]\n",
            " [ 8.28979179 -0.37154051  2.09903937]]\n",
            "\n",
            "Y_test Shape :  (10000, 1)\n",
            "[[ -657.66930949]\n",
            " [ -545.36252395]\n",
            " [  -75.04418664]\n",
            " ...\n",
            " [-1771.64069421]\n",
            " [  -22.74692118]\n",
            " [  -64.85344575]]\n"
          ]
        }
      ]
    },
    {
      "cell_type": "code",
      "source": [
        "# Converting X_test to Desired Format\n",
        "X_test_poly = ConvertToPoly(X_test, 3)\n",
        "X_test_poly[:,1:] = NormalizeTest(X_test_poly[:,1:], AverageList, StdDevList)\n",
        "\n",
        "print('X_test_poly Shape : ', X_test_poly.shape)\n",
        "print(X_test_poly)"
      ],
      "metadata": {
        "colab": {
          "base_uri": "https://localhost:8080/"
        },
        "id": "Bc25tXhIbh3a",
        "outputId": "a4099a37-8b20-4708-e931-b0fe80d62548"
      },
      "execution_count": 17,
      "outputs": [
        {
          "output_type": "stream",
          "name": "stdout",
          "text": [
            "X_test_poly Shape :  (10000, 10)\n",
            "[[ 1.          1.6102745   1.77154253 ...  1.0320618   0.07788505\n",
            "   0.56304227]\n",
            " [ 1.          0.48165174 -0.83794053 ...  1.10714074  0.25852942\n",
            "   0.69530387]\n",
            " [ 1.         -0.46868889 -0.8636869  ... -1.19982224  0.48794567\n",
            "  -0.88045566]\n",
            " ...\n",
            " [ 1.          1.14547015  0.35774599 ...  0.77753223 -0.44034778\n",
            "   0.23998546]\n",
            " [ 1.         -1.09152346  0.19637515 ... -0.67900151 -0.60815346\n",
            "  -0.16072757]\n",
            " [ 1.          1.43131274  1.1709694  ...  0.36064771 -0.97492503\n",
            "   0.02221603]]\n"
          ]
        }
      ]
    },
    {
      "cell_type": "code",
      "source": [
        "# Predicting Test Labels\n",
        "Y_test_Predicted_N = np.dot(X_test_poly, thetaN)\n",
        "Y_test_Predicted_G = np.dot(X_test_poly, thetaG)\n",
        "Compare = np.concatenate((Y_test, Y_test_Predicted_N, Y_test_Predicted_G), axis=1)\n",
        "\n",
        "print('[[  EXPECTED   :   PREDICTED(N)   :  PREDICTED(G) ]]')\n",
        "print(Compare)"
      ],
      "metadata": {
        "colab": {
          "base_uri": "https://localhost:8080/"
        },
        "id": "AAx954P5bmYb",
        "outputId": "eb1dfd51-8d69-4771-ce6e-5e61662db2e7"
      },
      "execution_count": 18,
      "outputs": [
        {
          "output_type": "stream",
          "name": "stdout",
          "text": [
            "[[  EXPECTED   :   PREDICTED(N)   :  PREDICTED(G) ]]\n",
            "[[ -657.66930949   255.65091617   255.65091617]\n",
            " [ -545.36252395    -8.94841958    -8.94841958]\n",
            " [  -75.04418664   -96.58109587   -96.58109587]\n",
            " ...\n",
            " [-1771.64069421   -91.8855374    -91.8855374 ]\n",
            " [  -22.74692118    94.16147995    94.16147995]\n",
            " [  -64.85344575   105.02809414   105.02809414]]\n"
          ]
        }
      ]
    }
  ]
}